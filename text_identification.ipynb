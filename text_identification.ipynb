{
 "cells": [
  {
   "cell_type": "markdown",
   "id": "c97e0b55",
   "metadata": {
    "papermill": {
     "duration": 0.00777,
     "end_time": "2024-01-11T23:26:43.934891",
     "exception": false,
     "start_time": "2024-01-11T23:26:43.927121",
     "status": "completed"
    },
    "tags": []
   },
   "source": [
    "# Libraries"
   ]
  },
  {
   "cell_type": "code",
   "execution_count": null,
   "id": "5e4ef2af",
   "metadata": {
    "_cell_guid": "b1076dfc-b9ad-4769-8c92-a6c4dae69d19",
    "_uuid": "8f2839f25d086af736a60e9eeb907d3b93b6e0e5",
    "execution": {
     "iopub.execute_input": "2024-01-11T23:26:43.951284Z",
     "iopub.status.busy": "2024-01-11T23:26:43.950646Z",
     "iopub.status.idle": "2024-01-11T23:26:56.775534Z",
     "shell.execute_reply": "2024-01-11T23:26:56.774470Z"
    },
    "papermill": {
     "duration": 12.835744,
     "end_time": "2024-01-11T23:26:56.777909",
     "exception": false,
     "start_time": "2024-01-11T23:26:43.942165",
     "status": "completed"
    },
    "tags": []
   },
   "outputs": [],
   "source": [
    "import numpy as np # linear algebra\n",
    "\n",
    "import tensorflow_text as tf_text\n",
    "\n",
    "import tensorflow as tf\n",
    "from sklearn.model_selection import train_test_split\n",
    "from tensorflow.keras.layers import TextVectorization, Embedding, Bidirectional, LSTM, Conv1D, GlobalMaxPooling1D, Dense, Dropout\n",
    "from tensorflow.keras import Model, Input"
   ]
  },
  {
   "cell_type": "markdown",
   "id": "99ed47cb",
   "metadata": {
    "papermill": {
     "duration": 0.007405,
     "end_time": "2024-01-11T23:26:56.792911",
     "exception": false,
     "start_time": "2024-01-11T23:26:56.785506",
     "status": "completed"
    },
    "tags": []
   },
   "source": [
    "# Read data"
   ]
  },
  {
   "cell_type": "code",
   "execution_count": null,
   "id": "3ad0ed49",
   "metadata": {
    "execution": {
     "iopub.execute_input": "2024-01-11T23:27:00.735851Z",
     "iopub.status.busy": "2024-01-11T23:27:00.735589Z",
     "iopub.status.idle": "2024-01-11T23:27:00.757932Z",
     "shell.execute_reply": "2024-01-11T23:27:00.756965Z"
    },
    "papermill": {
     "duration": 0.033285,
     "end_time": "2024-01-11T23:27:00.760553",
     "exception": false,
     "start_time": "2024-01-11T23:27:00.727268",
     "status": "completed"
    },
    "tags": []
   },
   "outputs": [],
   "source": [
    "import pandas as pd # data processing and csv \n",
    "test = pd.read_csv(\"/kaggle/input/llm-detect-ai-generated-text/test_essays.csv\")\n",
    "train_data = pd.read_csv(\"/kaggle/input/data-llm/data_llm.csv\")"
   ]
  },
  {
   "cell_type": "code",
   "execution_count": null,
   "id": "1a7f1e36",
   "metadata": {},
   "outputs": [],
   "source": [
    "# data cleaning (removing starting [, ',\" and ending [, ', \")\n",
    "train_data['text'] = train_data['text'].str.strip('[\"]')\n",
    "train_data['text'] = train_data['text'].str.strip(\"['']\")\n"
   ]
  },
  {
   "cell_type": "code",
   "execution_count": null,
   "id": "9f07d11e",
   "metadata": {
    "execution": {
     "iopub.execute_input": "2024-01-11T23:27:00.778571Z",
     "iopub.status.busy": "2024-01-11T23:27:00.778291Z",
     "iopub.status.idle": "2024-01-11T23:27:00.789130Z",
     "shell.execute_reply": "2024-01-11T23:27:00.788342Z"
    },
    "papermill": {
     "duration": 0.023016,
     "end_time": "2024-01-11T23:27:00.791302",
     "exception": false,
     "start_time": "2024-01-11T23:27:00.768286",
     "status": "completed"
    },
    "tags": []
   },
   "outputs": [],
   "source": [
    "train_final = train_data\n",
    "train_final"
   ]
  },
  {
   "cell_type": "code",
   "execution_count": null,
   "id": "b35eb290",
   "metadata": {},
   "outputs": [],
   "source": [
    "print(train_final.iloc[0])"
   ]
  },
  {
   "cell_type": "markdown",
   "id": "b972b155",
   "metadata": {
    "papermill": {
     "duration": 0.007599,
     "end_time": "2024-01-11T23:27:00.806782",
     "exception": false,
     "start_time": "2024-01-11T23:27:00.799183",
     "status": "completed"
    },
    "tags": []
   },
   "source": [
    "# Stats"
   ]
  },
  {
   "cell_type": "code",
   "execution_count": null,
   "id": "d4ea921b",
   "metadata": {
    "execution": {
     "iopub.execute_input": "2024-01-11T23:27:00.823546Z",
     "iopub.status.busy": "2024-01-11T23:27:00.823239Z",
     "iopub.status.idle": "2024-01-11T23:27:02.223777Z",
     "shell.execute_reply": "2024-01-11T23:27:02.222823Z"
    },
    "papermill": {
     "duration": 1.411115,
     "end_time": "2024-01-11T23:27:02.225720",
     "exception": false,
     "start_time": "2024-01-11T23:27:00.814605",
     "status": "completed"
    },
    "tags": []
   },
   "outputs": [],
   "source": [
    "import matplotlib.pyplot as plt\n",
    "length_of_sequences = train_final['text'].apply(lambda x: len(x.split()))\n",
    "plt.hist(length_of_sequences, bins=30, alpha=0.75, color='orange')\n",
    "\n",
    "plt.xlabel('length of the sequence')\n",
    "plt.ylabel('Frequency')\n",
    "plt.title('Text Sequence Lengths distribution')\n",
    "plt.show()"
   ]
  },
  {
   "cell_type": "code",
   "execution_count": null,
   "id": "b10ee614",
   "metadata": {
    "execution": {
     "iopub.execute_input": "2024-01-11T23:27:02.244886Z",
     "iopub.status.busy": "2024-01-11T23:27:02.244593Z",
     "iopub.status.idle": "2024-01-11T23:27:02.254139Z",
     "shell.execute_reply": "2024-01-11T23:27:02.253279Z"
    },
    "papermill": {
     "duration": 0.021618,
     "end_time": "2024-01-11T23:27:02.255983",
     "exception": false,
     "start_time": "2024-01-11T23:27:02.234365",
     "status": "completed"
    },
    "tags": []
   },
   "outputs": [],
   "source": [
    "print(train_final['generated'].value_counts())"
   ]
  },
  {
   "cell_type": "markdown",
   "id": "9b467105",
   "metadata": {
    "papermill": {
     "duration": 0.008329,
     "end_time": "2024-01-11T23:27:02.272809",
     "exception": false,
     "start_time": "2024-01-11T23:27:02.264480",
     "status": "completed"
    },
    "tags": []
   },
   "source": [
    "# Split data"
   ]
  },
  {
   "cell_type": "code",
   "execution_count": null,
   "id": "1e01b897",
   "metadata": {
    "execution": {
     "iopub.execute_input": "2024-01-11T23:27:02.290858Z",
     "iopub.status.busy": "2024-01-11T23:27:02.290594Z",
     "iopub.status.idle": "2024-01-11T23:27:03.241696Z",
     "shell.execute_reply": "2024-01-11T23:27:03.240898Z"
    },
    "papermill": {
     "duration": 0.962863,
     "end_time": "2024-01-11T23:27:03.244000",
     "exception": false,
     "start_time": "2024-01-11T23:27:02.281137",
     "status": "completed"
    },
    "tags": []
   },
   "outputs": [],
   "source": [
    "training_dataframe, value_dataframe = train_test_split(train_final, test_size=0.3, random_state=10)\n",
    "\n",
    "batch_size = 32  #32\n",
    "\n",
    "raw_train_ds = tf.data.Dataset.from_tensor_slices(\n",
    "    (training_dataframe['text'].values, training_dataframe['generated'].values)\n",
    ").batch(batch_size)\n",
    "\n",
    "raw_val_ds = tf.data.Dataset.from_tensor_slices(\n",
    "    (value_dataframe['text'].values, value_dataframe['generated'].values)\n",
    ").batch(batch_size)"
   ]
  },
  {
   "cell_type": "markdown",
   "id": "1df56412",
   "metadata": {
    "papermill": {
     "duration": 0.008307,
     "end_time": "2024-01-11T23:27:03.261088",
     "exception": false,
     "start_time": "2024-01-11T23:27:03.252781",
     "status": "completed"
    },
    "tags": []
   },
   "source": [
    "# Vectorize"
   ]
  },
  {
   "cell_type": "code",
   "execution_count": null,
   "id": "16832fe1",
   "metadata": {
    "execution": {
     "iopub.execute_input": "2024-01-11T23:27:03.279198Z",
     "iopub.status.busy": "2024-01-11T23:27:03.278901Z",
     "iopub.status.idle": "2024-01-11T23:28:17.636422Z",
     "shell.execute_reply": "2024-01-11T23:28:17.635415Z"
    },
    "papermill": {
     "duration": 74.369426,
     "end_time": "2024-01-11T23:28:17.638891",
     "exception": false,
     "start_time": "2024-01-11T23:27:03.269465",
     "status": "completed"
    },
    "tags": []
   },
   "outputs": [],
   "source": [
    "dimension_of_embeddings = 128  #64\n",
    "length_sequence = 512\n",
    "max_features = 75000\n",
    "\n",
    "def tf_lower_and_split_punct(text):\n",
    "    text = tf_text.normalize_utf8(text, 'NFKD')\n",
    "    text = tf.strings.lower(text)\n",
    "    text = tf.strings.regex_replace(text, '[.?!,¿]', r' \\0 ')\n",
    "    text = tf.strings.regex_replace(text, '[^ a-z.?!,¿]', '')\n",
    "    text = tf.strings.strip(text)\n",
    "    text = tf.strings.join(['[START]', text, '[END]'], separator=' ')\n",
    "    return text\n",
    "\n",
    "\n",
    "# Text vectorization layer\n",
    "vectorize_layer = tf.keras.layers.TextVectorization(\n",
    "    standardize=tf_lower_and_split_punct,\n",
    "    max_tokens=max_features,\n",
    "    ngrams = (3,5),\n",
    "    output_mode=\"int\",\n",
    "    output_sequence_length=length_sequence,\n",
    "    pad_to_max_tokens=True\n",
    ")\n",
    "\n",
    "text_ds = raw_train_ds.map(lambda x, y: x)\n",
    "vectorize_layer.adapt(text_ds)\n",
    "\n",
    "def vectorize_text(text, label):\n",
    "    text = tf.expand_dims(text, -1)\n",
    "    return vectorize_layer(text), label\n",
    "\n",
    "train_ds = raw_train_ds.map(vectorize_text)\n",
    "val_ds = raw_val_ds.map(vectorize_text)"
   ]
  },
  {
   "cell_type": "markdown",
   "id": "cacb8ec4",
   "metadata": {
    "papermill": {
     "duration": 0.0084,
     "end_time": "2024-01-11T23:28:17.656460",
     "exception": false,
     "start_time": "2024-01-11T23:28:17.648060",
     "status": "completed"
    },
    "tags": []
   },
   "source": [
    "# NN trans"
   ]
  },
  {
   "cell_type": "code",
   "execution_count": null,
   "id": "1bddf486",
   "metadata": {
    "execution": {
     "iopub.execute_input": "2024-01-11T23:28:17.674830Z",
     "iopub.status.busy": "2024-01-11T23:28:17.674510Z",
     "iopub.status.idle": "2024-01-11T23:28:17.684898Z",
     "shell.execute_reply": "2024-01-11T23:28:17.684191Z"
    },
    "papermill": {
     "duration": 0.021764,
     "end_time": "2024-01-11T23:28:17.686747",
     "exception": false,
     "start_time": "2024-01-11T23:28:17.664983",
     "status": "completed"
    },
    "tags": []
   },
   "outputs": [],
   "source": [
    "\n",
    "class TransformerBlock(tf.keras.layers.Layer):\n",
    "    def __init__(self, embed_dim, num_heads, ff_dim, rate=0.1):\n",
    "        super(TransformerBlock, self).__init__()\n",
    "        self.att = tf.keras.layers.MultiHeadAttention(num_heads=num_heads, key_dim=embed_dim)\n",
    "        self.ffn = tf.keras.Sequential(\n",
    "            [tf.keras.layers.Dense(ff_dim, activation=\"relu\"), tf.keras.layers.Dense(embed_dim),]\n",
    "        )\n",
    "        self.layernorm1 = tf.keras.layers.LayerNormalization(epsilon=1e-6)\n",
    "        self.layernorm2 = tf.keras.layers.LayerNormalization(epsilon=1e-6)\n",
    "        self.dropout1 = tf.keras.layers.Dropout(rate)\n",
    "        self.dropout2 = tf.keras.layers.Dropout(rate)\n",
    "\n",
    "    def call(self, inputs, training):\n",
    "        attn_output = self.att(inputs, inputs)\n",
    "        attn_output = self.dropout1(attn_output, training=training)\n",
    "        out1 = self.layernorm1(inputs + attn_output)\n",
    "        ffn_output = self.ffn(out1)\n",
    "        ffn_output = self.dropout2(ffn_output, training=training)\n",
    "        return self.layernorm2(out1 + ffn_output)"
   ]
  },
  {
   "cell_type": "markdown",
   "id": "74316b1b",
   "metadata": {
    "papermill": {
     "duration": 0.008572,
     "end_time": "2024-01-11T23:28:17.703657",
     "exception": false,
     "start_time": "2024-01-11T23:28:17.695085",
     "status": "completed"
    },
    "tags": []
   },
   "source": [
    "# NN create"
   ]
  },
  {
   "cell_type": "code",
   "execution_count": null,
   "id": "90501c96",
   "metadata": {
    "execution": {
     "iopub.execute_input": "2024-01-11T23:28:17.721842Z",
     "iopub.status.busy": "2024-01-11T23:28:17.721528Z",
     "iopub.status.idle": "2024-01-11T23:28:19.144698Z",
     "shell.execute_reply": "2024-01-11T23:28:19.143805Z"
    },
    "papermill": {
     "duration": 1.438261,
     "end_time": "2024-01-11T23:28:19.150525",
     "exception": false,
     "start_time": "2024-01-11T23:28:17.712264",
     "status": "completed"
    },
    "tags": []
   },
   "outputs": [],
   "source": [
    "inputs = Input(shape=(length_sequence,), dtype=\"int64\")\n",
    "x = Embedding(max_features, dimension_of_embeddings)(inputs)\n",
    "x = Bidirectional(LSTM(64, return_sequences=True))(x)  #32\n",
    "\n",
    "transformer_block = TransformerBlock(dimension_of_embeddings, 2, 64)  #32\n",
    "x = transformer_block(x)\n",
    "\n",
    "x = Conv1D(128, 7, padding=\"valid\", activation=\"relu\", strides=3)(x)\n",
    "x = GlobalMaxPooling1D()(x)\n",
    "x = Dense(128, activation=\"relu\")(x)\n",
    "x = Dropout(0.5)(x)\n",
    "predictions = Dense(1, activation=\"sigmoid\", name=\"predictions\")(x)\n",
    "\n",
    "model = Model(inputs=inputs, outputs=predictions)\n",
    "model.summary()\n",
    "\n",
    "# Training results on CPU with max_features = 75000, batch_size = 32 64 32 32 128, epochs = 1\n",
    "\n",
    "# Training results on GPU (P100) with max_features = 75000, batch_size = 32 128 64 64 128, epochs = 3"
   ]
  },
  {
   "cell_type": "markdown",
   "id": "08ec40c1",
   "metadata": {
    "papermill": {
     "duration": 0.010538,
     "end_time": "2024-01-11T23:28:19.171823",
     "exception": false,
     "start_time": "2024-01-11T23:28:19.161285",
     "status": "completed"
    },
    "tags": []
   },
   "source": [
    "# NN fit"
   ]
  },
  {
   "cell_type": "code",
   "execution_count": null,
   "id": "07e594cd",
   "metadata": {
    "execution": {
     "iopub.execute_input": "2024-01-11T23:28:19.194344Z",
     "iopub.status.busy": "2024-01-11T23:28:19.194030Z",
     "iopub.status.idle": "2024-01-11T23:32:53.270692Z",
     "shell.execute_reply": "2024-01-11T23:32:53.269747Z"
    },
    "papermill": {
     "duration": 274.24114,
     "end_time": "2024-01-11T23:32:53.423568",
     "exception": false,
     "start_time": "2024-01-11T23:28:19.182428",
     "status": "completed"
    },
    "tags": []
   },
   "outputs": [],
   "source": [
    "model.compile(loss=\"binary_crossentropy\", optimizer=\"adam\", metrics=[\"binary_accuracy\"])\n",
    "\n",
    "epochs = 2\n",
    "model.fit(train_ds, validation_data=val_ds, epochs=epochs)"
   ]
  },
  {
   "cell_type": "markdown",
   "id": "7e9ded1a",
   "metadata": {
    "papermill": {
     "duration": 0.150977,
     "end_time": "2024-01-11T23:32:53.725778",
     "exception": false,
     "start_time": "2024-01-11T23:32:53.574801",
     "status": "completed"
    },
    "tags": []
   },
   "source": [
    "# Results"
   ]
  },
  {
   "cell_type": "code",
   "execution_count": null,
   "id": "b0941d3a",
   "metadata": {
    "execution": {
     "iopub.execute_input": "2024-01-11T23:32:54.030354Z",
     "iopub.status.busy": "2024-01-11T23:32:54.029697Z",
     "iopub.status.idle": "2024-01-11T23:32:54.980801Z",
     "shell.execute_reply": "2024-01-11T23:32:54.979758Z"
    },
    "papermill": {
     "duration": 1.104693,
     "end_time": "2024-01-11T23:32:54.982619",
     "exception": false,
     "start_time": "2024-01-11T23:32:53.877926",
     "status": "completed"
    },
    "tags": []
   },
   "outputs": [],
   "source": [
    "test_text = test['text'].values\n",
    "vectorized_test_text = vectorize_layer(test_text)\n",
    "predictions = model.predict(vectorized_test_text)\n",
    "test['generated'] = predictions\n",
    "print(test[['text', 'generated']])"
   ]
  },
  {
   "cell_type": "code",
   "execution_count": null,
   "metadata": {},
   "outputs": [],
   "source": [
    "test[['id', 'generated']].set_index('id').to_csv(\"submission.csv\")"
   ]
  }
 ],
 "metadata": {
  "kaggle": {
   "accelerator": "gpu",
   "dataSources": [
    {
     "databundleVersionId": 6888007,
     "sourceId": 61542,
     "sourceType": "competition"
    },
    {
     "datasetId": 3936750,
     "sourceId": 6847931,
     "sourceType": "datasetVersion"
    },
    {
     "datasetId": 3945154,
     "sourceId": 6865136,
     "sourceType": "datasetVersion"
    },
    {
     "datasetId": 3955358,
     "sourceId": 6888403,
     "sourceType": "datasetVersion"
    },
    {
     "datasetId": 3942644,
     "sourceId": 6890527,
     "sourceType": "datasetVersion"
    },
    {
     "datasetId": 3973977,
     "sourceId": 6920799,
     "sourceType": "datasetVersion"
    },
    {
     "datasetId": 3961875,
     "sourceId": 6971638,
     "sourceType": "datasetVersion"
    },
    {
     "datasetId": 4005256,
     "sourceId": 6977472,
     "sourceType": "datasetVersion"
    },
    {
     "datasetId": 4035516,
     "sourceId": 7018354,
     "sourceType": "datasetVersion"
    },
    {
     "datasetId": 3944051,
     "sourceId": 7060310,
     "sourceType": "datasetVersion"
    },
    {
     "datasetId": 4039374,
     "sourceId": 7082713,
     "sourceType": "datasetVersion"
    },
    {
     "datasetId": 4203616,
     "sourceId": 7254534,
     "sourceType": "datasetVersion"
    },
    {
     "datasetId": 4274446,
     "sourceId": 7359107,
     "sourceType": "datasetVersion"
    }
   ],
   "dockerImageVersionId": 30635,
   "isGpuEnabled": true,
   "isInternetEnabled": false,
   "language": "python",
   "sourceType": "notebook"
  },
  "kernelspec": {
   "display_name": "Python 3",
   "language": "python",
   "name": "python3"
  },
  "language_info": {
   "codemirror_mode": {
    "name": "ipython",
    "version": 3
   },
   "file_extension": ".py",
   "mimetype": "text/x-python",
   "name": "python",
   "nbconvert_exporter": "python",
   "pygments_lexer": "ipython3",
   "version": "3.12.0"
  },
  "papermill": {
   "default_parameters": {},
   "duration": 378.642436,
   "end_time": "2024-01-11T23:32:59.288980",
   "environment_variables": {},
   "exception": null,
   "input_path": "__notebook__.ipynb",
   "output_path": "__notebook__.ipynb",
   "parameters": {},
   "start_time": "2024-01-11T23:26:40.646544",
   "version": "2.4.0"
  }
 },
 "nbformat": 4,
 "nbformat_minor": 5
}
